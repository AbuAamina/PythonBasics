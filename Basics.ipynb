{
 "cells": [
  {
   "cell_type": "code",
   "execution_count": 26,
   "metadata": {},
   "outputs": [
    {
     "name": "stdout",
     "output_type": "stream",
     "text": [
      "Kumar_Ravi_003\n",
      "Ravi\n",
      "Kumar\n",
      "003\n",
      "Python\n",
      "6\n"
     ]
    }
   ],
   "source": [
    "import ast,sys\n",
    "input_str = 'Kumar_Ravi_003'\n",
    "#input_str = input_str.strip('\\_')\n",
    "print(input_str)\n",
    "first_name = input_str[6:10]\n",
    "second_name = input_str[0:5]\n",
    "customer_code = input_str[11:14]\n",
    "print(first_name)\n",
    "print(second_name)\n",
    "print(customer_code)\n",
    "inp = 'I love Python programming'\n",
    "print(inp[-18:-12])\n",
    "print(len('Python'))"
   ]
  },
  {
   "cell_type": "code",
   "execution_count": 29,
   "metadata": {},
   "outputs": [
    {
     "name": "stdout",
     "output_type": "stream",
     "text": [
      "{'d', 'r'}\n"
     ]
    }
   ],
   "source": [
    "a = {x for x in 'abracadabra' if x not in 'abc'}\n",
    "print(a)"
   ]
  },
  {
   "cell_type": "code",
   "execution_count": 10,
   "metadata": {},
   "outputs": [
    {
     "name": "stdout",
     "output_type": "stream",
     "text": [
      "This is my String\n",
      "ring\n",
      "This is my St\n"
     ]
    }
   ],
   "source": [
    "mystring = \"This is my String\"\n",
    "print(mystring)\n",
    "print(mystring[-4:])\n",
    "print(mystring[:-4])"
   ]
  },
  {
   "cell_type": "code",
   "execution_count": 18,
   "metadata": {},
   "outputs": [
    {
     "name": "stdout",
     "output_type": "stream",
     "text": [
      "23\n",
      "21\n",
      "K This is my first code   lk\n"
     ]
    }
   ],
   "source": [
    "input_str = 'This is my first code  '\n",
    "print(len(input_str))\n",
    "print(len(input_str.rstrip()))\n",
    "print('K {0} lk'.format(input_str))"
   ]
  },
  {
   "cell_type": "code",
   "execution_count": 4,
   "metadata": {},
   "outputs": [
    {
     "name": "stdout",
     "output_type": "stream",
     "text": [
      "love\n",
      "love\n"
     ]
    }
   ],
   "source": [
    "S = \"I love Python\"\n",
    "print(S[2:6])\n",
    "print(S[-11:-7])"
   ]
  },
  {
   "cell_type": "code",
   "execution_count": null,
   "metadata": {},
   "outputs": [],
   "source": []
  }
 ],
 "metadata": {
  "kernelspec": {
   "display_name": "Python 3",
   "language": "python",
   "name": "python3"
  },
  "language_info": {
   "codemirror_mode": {
    "name": "ipython",
    "version": 3
   },
   "file_extension": ".py",
   "mimetype": "text/x-python",
   "name": "python",
   "nbconvert_exporter": "python",
   "pygments_lexer": "ipython3",
   "version": "3.8.5"
  }
 },
 "nbformat": 4,
 "nbformat_minor": 4
}
